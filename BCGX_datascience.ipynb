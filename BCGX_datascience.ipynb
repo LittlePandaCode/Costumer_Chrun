{
  "nbformat": 4,
  "nbformat_minor": 0,
  "metadata": {
    "colab": {
      "provenance": [],
      "collapsed_sections": [
        "b4lszC2gjp2G"
      ],
      "mount_file_id": "1Ph_zb3xwIdYd2N52A1RelGQuOfB8ZesW",
      "authorship_tag": "ABX9TyNHavo9OsQsYxD4wyTYYs9o",
      "include_colab_link": true
    },
    "kernelspec": {
      "name": "python3",
      "display_name": "Python 3"
    },
    "language_info": {
      "name": "python"
    }
  },
  "cells": [
    {
      "cell_type": "markdown",
      "metadata": {
        "id": "view-in-github",
        "colab_type": "text"
      },
      "source": [
        "<a href=\"https://colab.research.google.com/github/LittlePandaCode/Costumer_Chrun/blob/main/BCGX_datascience.ipynb\" target=\"_parent\"><img src=\"https://colab.research.google.com/assets/colab-badge.svg\" alt=\"Open In Colab\"/></a>"
      ]
    },
    {
      "cell_type": "markdown",
      "source": [
        "## **Make Necessary import**"
      ],
      "metadata": {
        "id": "NstYwxYhinaZ"
      }
    },
    {
      "cell_type": "code",
      "execution_count": null,
      "metadata": {
        "id": "kXTWGObxgxVa"
      },
      "outputs": [],
      "source": [
        "import numpy as np\n",
        "import matplotlib.pyplot as plt\n",
        "import pandas as pd\n",
        "import seaborn as sns\n"
      ]
    },
    {
      "cell_type": "code",
      "source": [
        "from google.colab import drive\n",
        "drive.mount('/content/drive')"
      ],
      "metadata": {
        "id": "zfdmSsAUh4WZ"
      },
      "execution_count": null,
      "outputs": []
    },
    {
      "cell_type": "code",
      "source": [
        "ds_client=pd.read_csv(\"/content/drive/MyDrive/Datasets/BCG_X- datascience/client_data (1).csv\")\n",
        "ds_price=pd.read_csv(\"/content/drive/MyDrive/Datasets/BCG_X- datascience/price_data (1).csv\")"
      ],
      "metadata": {
        "id": "YvoID64ZiXAc"
      },
      "execution_count": null,
      "outputs": []
    },
    {
      "cell_type": "markdown",
      "source": [
        "## Discover and visualize data\n"
      ],
      "metadata": {
        "id": "bxmO-EmNisvs"
      }
    },
    {
      "cell_type": "markdown",
      "source": [
        "### price dataset"
      ],
      "metadata": {
        "id": "b4lszC2gjp2G"
      }
    },
    {
      "cell_type": "code",
      "source": [
        "ds_price.head(2)"
      ],
      "metadata": {
        "id": "56eq3tpHi-n6"
      },
      "execution_count": null,
      "outputs": []
    },
    {
      "cell_type": "code",
      "source": [
        "ds_price.info()"
      ],
      "metadata": {
        "id": "wgxQDi9qjaEd"
      },
      "execution_count": null,
      "outputs": []
    },
    {
      "cell_type": "code",
      "source": [
        "ds_price.describe()"
      ],
      "metadata": {
        "id": "UgpC7N6Ajikv"
      },
      "execution_count": null,
      "outputs": []
    },
    {
      "cell_type": "code",
      "source": [
        "ds_price.shape"
      ],
      "metadata": {
        "id": "O15CWKQ7lqXH"
      },
      "execution_count": null,
      "outputs": []
    },
    {
      "cell_type": "code",
      "source": [
        "#Distributions of columns\n",
        "price=ds_price.drop(columns=['id','price_date'],inplace=True)\n",
        "corr=ds_price.corr()\n",
        "sns.heatmap(corr,annot=True)\n",
        "plt.title(\"correlation matrix\")\n",
        "plt.show()"
      ],
      "metadata": {
        "id": "_WifDI9BkAQW"
      },
      "execution_count": null,
      "outputs": []
    },
    {
      "cell_type": "markdown",
      "source": [
        "### Client Dataset"
      ],
      "metadata": {
        "id": "RlfanmjFl4u-"
      }
    },
    {
      "cell_type": "code",
      "source": [
        "ds_client.head(2)"
      ],
      "metadata": {
        "id": "zO1iim0Dl9Fs"
      },
      "execution_count": null,
      "outputs": []
    },
    {
      "cell_type": "code",
      "source": [
        "ds_client.shape"
      ],
      "metadata": {
        "id": "PBh5XeGSmFZ1"
      },
      "execution_count": null,
      "outputs": []
    },
    {
      "cell_type": "code",
      "source": [
        "ds_client.describe()"
      ],
      "metadata": {
        "id": "supGBdZQmMfW"
      },
      "execution_count": null,
      "outputs": []
    },
    {
      "cell_type": "code",
      "source": [
        "ds_client.info()"
      ],
      "metadata": {
        "id": "1-ulFds5mXWk"
      },
      "execution_count": null,
      "outputs": []
    },
    {
      "cell_type": "code",
      "source": [
        "# distribution of columns\n",
        "colors=['#9d8189','#f4acb7']\n",
        "def plot_stacked_bars(dataframe, title_, size_=(18, 10), rot_=0, legend_=\"upper right\"):\n",
        "    \"\"\"\n",
        "    Plot stacked bars with annotations\n",
        "    \"\"\"\n",
        "    ax = dataframe.plot(\n",
        "        kind=\"bar\",\n",
        "        stacked=True,\n",
        "        figsize=size_,\n",
        "        rot=rot_,\n",
        "        title=title_\n",
        "        ,color=colors\n",
        "    )\n",
        "    # Rename legend\n",
        "    plt.legend([\"Retention\", \"Churn\"], loc=legend_)\n",
        "    # Labels\n",
        "    plt.ylabel(\"Company base (%)\")\n",
        "    plt.show()\n",
        "\n",
        "\n",
        "churn = ds_client[['id', 'churn']]\n",
        "churn.columns = ['Companies', 'churn']\n",
        "churn_total = churn.groupby(churn['churn']).count()\n",
        "churn_percentage = churn_total / churn_total.sum() * 100\n",
        "plot_stacked_bars(churn_percentage.transpose(), \"Churning status\", (5, 5), legend_=\"lower right\")"
      ],
      "metadata": {
        "id": "5aJqmKsNmaim"
      },
      "execution_count": null,
      "outputs": []
    },
    {
      "cell_type": "code",
      "source": [
        "def plot_distribution(dataframe, column, ax, bins_=50):\n",
        "    \"\"\"\n",
        "    Plot variable distirbution in a stacked histogram of churned or retained company\n",
        "    \"\"\"\n",
        "    # Create a temporal dataframe with the data to be plot\n",
        "    temp = pd.DataFrame({\"Retention\": dataframe[dataframe[\"churn\"]==0][column],\n",
        "    \"Churn\":dataframe[dataframe[\"churn\"]==1][column]})\n",
        "    # Plot the histogram\n",
        "    temp[[\"Retention\",\"Churn\"]].plot(kind='hist', bins=bins_, ax=ax, stacked=True)\n",
        "    # X-axis label\n",
        "    ax.set_xlabel(column)\n",
        "    # Change the x-axis to plain style\n",
        "    ax.ticklabel_format(style='plain', axis='x')\n",
        "\n",
        "consumption = ds_client[['id', 'cons_12m', 'cons_gas_12m', 'cons_last_month', 'imp_cons', 'has_gas', 'churn']]\n",
        "\n",
        "fig, axs = plt.subplots(nrows=1, figsize=(18, 5))\n",
        "\n",
        "plot_distribution(consumption, 'cons_12m', axs)"
      ],
      "metadata": {
        "id": "Jrt94jluox7n"
      },
      "execution_count": null,
      "outputs": []
    }
  ]
}